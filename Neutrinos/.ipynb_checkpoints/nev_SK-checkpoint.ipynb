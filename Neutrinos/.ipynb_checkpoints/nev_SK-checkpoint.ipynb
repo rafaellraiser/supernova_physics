{
 "cells": [
  {
   "cell_type": "markdown",
   "id": "285d63ec",
   "metadata": {},
   "source": [
    "# Defines a function to calculate the number of events for certain parameters of the diffuse flux"
   ]
  },
  {
   "cell_type": "code",
   "execution_count": 5,
   "id": "7df49a4c",
   "metadata": {},
   "outputs": [],
   "source": [
    "import numpy as np\n",
    "from matplotlib import pyplot as plt\n",
    "\n",
    "# par are lists containing [Etot,E0] in MeV\n",
    "def Nev(par_ebar,par_x):\n",
    "    import math\n",
    "    import numpy as np\n",
    "\n",
    "    # Estimates the parameters of the diffuse flux from the snr and emission parameters\n",
    "    from snr import snr_yuksel\n",
    "    J1,J2,J3=snr_yuksel(0,'integrals','avg')\n",
    "\n",
    "    Ftot_ebar=J1*par_ebar[0]/par_ebar[1]\n",
    "    Ftot_x=J1*par_x[0]/par_x[1]\n",
    "\n",
    "    E0ebar=par_ebar[1]*J2/J1\n",
    "    E0x=par_x[1]*J2/J1\n",
    "\n",
    "    A=(2+2.3)/(1+2.3)\n",
    "    k=J3*J1/J2**2\n",
    "    a=(2-k*A)/(k*A-1)\n",
    "\n",
    "    from spectra import spectrum_garching\n",
    "    f0=lambda E,Ftot,E0,a: spectrum_garching(E,Ftot/E0,E0,a)\n",
    "\n",
    "    f0e=lambda E: 0\n",
    "    f0ebar=lambda E: f0(E,Ftot_ebar,E0ebar,a)\n",
    "    f0x=lambda E: f0(E,Ftot_x,E0x,a)\n",
    "\n",
    "    from mix import mix_ad\n",
    "    febar_mix_nh=mix_ad(f0e,f0ebar,f0x,'nu_ebar','nh')\n",
    "    febar_mix_ih=mix_ad(f0e,f0ebar,f0x,'nu_ebar','ih')\n",
    "\n",
    "    from detectors import eff_diffuse_SKII,eff_diffuse_SKIII\n",
    "    from cross_sections import cs_ibd\n",
    "\n",
    "    Np=1.5e+33\n",
    "    T_SKII=794*24*3600\n",
    "    T_SKIII=(1497+562)*24*3600\n",
    "    \n",
    "    dNev_ibd_nh=lambda E: Np*cs_ibd(E)*febar_mix_nh(E)*( T_SKII*eff_diffuse_SKII(E+1.293)+T_SKIII*eff_diffuse_SKIII(E+1.293) )\n",
    "    dNev_ibd_ih=lambda E: Np*cs_ibd(E)*febar_mix_ih(E)*( T_SKII*eff_diffuse_SKII(E+1.293)+T_SKIII*eff_diffuse_SKIII(E+1.293) )\n",
    "\n",
    "    import scipy.integrate as integrate\n",
    "    Nev_ibd_nh,err1=integrate.quad(lambda E: dNev_ibd_nh(E), 0, np.Inf)\n",
    "    Nev_ibd_ih,err2=integrate.quad(lambda E: dNev_ibd_ih(E), 0, np.Inf)\n",
    "    \n",
    "    return Nev_ibd_nh,Nev_ibd_ih        "
   ]
  },
  {
   "cell_type": "code",
   "execution_count": 6,
   "id": "1630f4da",
   "metadata": {},
   "outputs": [
    {
     "name": "stderr",
     "output_type": "stream",
     "text": [
      "C:\\Users\\rafae\\AppData\\Local\\Temp/ipykernel_24136/1316211153.py:45: IntegrationWarning: The maximum number of subdivisions (50) has been achieved.\n",
      "  If increasing the limit yields no improvement it is advised to analyze \n",
      "  the integrand in order to determine the difficulties.  If the position of a \n",
      "  local difficulty can be determined (singularity, discontinuity) one will \n",
      "  probably gain from splitting up the interval and calling the integrator \n",
      "  on the subranges.  Perhaps a special-purpose integrator should be used.\n",
      "  Nev_ibd_nh,err1=integrate.quad(lambda E: dNev_ibd_nh(E), 0, np.Inf)\n",
      "C:\\Users\\rafae\\AppData\\Local\\Temp/ipykernel_24136/1316211153.py:46: IntegrationWarning: The maximum number of subdivisions (50) has been achieved.\n",
      "  If increasing the limit yields no improvement it is advised to analyze \n",
      "  the integrand in order to determine the difficulties.  If the position of a \n",
      "  local difficulty can be determined (singularity, discontinuity) one will \n",
      "  probably gain from splitting up the interval and calling the integrator \n",
      "  on the subranges.  Perhaps a special-purpose integrator should be used.\n",
      "  Nev_ibd_ih,err2=integrate.quad(lambda E: dNev_ibd_ih(E), 0, np.Inf)\n"
     ]
    },
    {
     "data": {
      "text/plain": [
       "(0.233414645733857, 0.233414645733857)"
      ]
     },
     "execution_count": 6,
     "metadata": {},
     "output_type": "execute_result"
    }
   ],
   "source": [
    "par=[5e+52*624151,15,5e+52*624151,20]\n",
    "Nev(par,par)"
   ]
  }
 ],
 "metadata": {
  "kernelspec": {
   "display_name": "Python 3 (ipykernel)",
   "language": "python",
   "name": "python3"
  },
  "language_info": {
   "codemirror_mode": {
    "name": "ipython",
    "version": 3
   },
   "file_extension": ".py",
   "mimetype": "text/x-python",
   "name": "python",
   "nbconvert_exporter": "python",
   "pygments_lexer": "ipython3",
   "version": "3.9.7"
  }
 },
 "nbformat": 4,
 "nbformat_minor": 5
}
