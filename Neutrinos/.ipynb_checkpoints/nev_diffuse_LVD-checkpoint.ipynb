{
 "cells": [
  {
   "cell_type": "code",
   "execution_count": 14,
   "id": "85dc46b8",
   "metadata": {},
   "outputs": [],
   "source": [
    "import numpy as np\n",
    "from matplotlib import pyplot as plt\n",
    "\n",
    "# par are lists containing [Etot,E0] in MeV\n",
    "def Nev(par_e,par_ebar,par_x):\n",
    "    import math\n",
    "    import numpy as np\n",
    "\n",
    "    # Estimates the parameters of the diffuse flux from the snr and emission parameters\n",
    "    from snr import snr_yuksel\n",
    "    J1,J2,J3=snr_yuksel(0,'integrals','avg')\n",
    "    \n",
    "    Ftot_e=J1*par_e[0]/par_e[1]\n",
    "    Ftot_ebar=J1*par_ebar[0]/par_ebar[1]\n",
    "    Ftot_x=J1*par_x[0]/par_x[1]\n",
    "\n",
    "    E0e=par_e[1]*J2/J1\n",
    "    E0ebar=par_ebar[1]*J2/J1\n",
    "    E0x=par_x[1]*J2/J1\n",
    "\n",
    "    A=(2+2.3)/(1+2.3)\n",
    "    k=J3*J1/J2**2\n",
    "    a=(2-k*A)/(k*A-1)\n",
    "\n",
    "    from spectra import spectrum_garching\n",
    "    f0=lambda E,Ftot,E0,a: spectrum_garching(E,Ftot*E0,E0,a)\n",
    "\n",
    "    f0e=lambda E: f0(E,Ftot_e,E0e,a)\n",
    "    f0ebar=lambda E: f0(E,Ftot_ebar,E0ebar,a)\n",
    "    f0x=lambda E: f0(E,Ftot_x,E0x,a)\n",
    "\n",
    "    from mix import mix_ad\n",
    "    fe_mix_nh=mix_ad(f0e,f0ebar,f0x,'nu_e','nh')\n",
    "    fe_mix_ih=mix_ad(f0e,f0ebar,f0x,'nu_e','ih')\n",
    "    febar_mix_nh=mix_ad(f0e,f0ebar,f0x,'nu_ebar','nh')\n",
    "    febar_mix_ih=mix_ad(f0e,f0ebar,f0x,'nu_ebar','ih')\n",
    "    fx_mix_nh=mix_ad(f0e,f0ebar,f0x,'nu_x','nh')\n",
    "    fx_mix_ih=mix_ad(f0e,f0ebar,f0x,'nu_x','ih')\n",
    "    \n",
    "    f1=np.load('fit_nc_nu.npy')\n",
    "    f2=np.load('fit_nc_nubar.npy')\n",
    "    f3=np.load('fit_cc_nue.npy')\n",
    "    f4=np.load('fit_cc_nuebar.npy')\n",
    "    \n",
    "    cs_nc_nu=lambda E: f1[0]*E**5+f1[1]*E**4+f1[2]*E**3+f1[3]*E**2+f1[4]*E+f1[5] if E>15.11 else 0\n",
    "    cs_nc_nubar=lambda E: f2[0]*E**5+f2[1]*E**4+f2[2]*E**3+f2[3]*E**2+f2[4]*E+f2[5] if E>15.11 else 0\n",
    "    cs_cc_nu=lambda E: f3[0]*E**5+f3[1]*E**4+f3[2]*E**3+f3[3]*E**2+f3[4]*E+f3[5] if E>17.3 else 0\n",
    "    cs_cc_nubar=lambda E: f4[0]*E**5+f4[1]*E**4+f4[2]*E**3+f4[3]*E**2+f4[4]*E+f4[5] if E>14.4 else 0\n",
    "    \n",
    "    from cross_sections import cs_ibd\n",
    "\n",
    "    Np=8.3e+31\n",
    "    Nox=4.3e+31\n",
    "    T=10*365*24*3600\n",
    "    \n",
    "    dNev_ibd_nh=lambda E: T*Np*cs_ibd(E)*febar_mix_nh(E)\n",
    "    dNev_ibd_ih=lambda E: T*Np*cs_ibd(E)*febar_mix_ih(E)\n",
    "    \n",
    "    dNev_ncox_nh=lambda E: T*Nox*fx_mix_nh(E)*(2*cs_nc_nu(E)+2*cs_nc_nubar(E))\n",
    "    dNev_ncox_ih=lambda E: T*Nox*fx_mix_ih(E)*(2*cs_nc_nu(E)+2*cs_nc_nubar(E))\n",
    "    \n",
    "    dNev_ccox_nh=lambda E: T*Nox*cs_cc_nu(E)*fe_mix_nh(E)+ T*Nox*cs_cc_nubar(E)*febar_mix_nh(E)\n",
    "    dNev_ccox_ih=lambda E: T*Nox*cs_cc_nu(E)*fe_mix_ih(E)+ T*Nox*cs_cc_nubar(E)*febar_mix_ih(E)\n",
    "    \n",
    "    import scipy.integrate as integrate\n",
    "    Nev_ibd_nh,err1=integrate.quad(lambda E: dNev_ibd_nh(E), 5.8, np.Inf) # Eth_e = 5 MeV, Ee=Ev-0.8\n",
    "    Nev_ibd_ih,err2=integrate.quad(lambda E: dNev_ibd_ih(E), 5.8, np.Inf)\n",
    "    \n",
    "    Nev_ncox_nh,err3=integrate.quad(lambda E: dNev_ncox_nh(E), 0, np.Inf)\n",
    "    Nev_ncox_ih,err4=integrate.quad(lambda E: dNev_ncox_ih(E), 0, np.Inf)\n",
    "    \n",
    "    Nev_ccox_nh,err5=integrate.quad(lambda E: dNev_ccox_nh(E), 0, np.Inf)\n",
    "    Nev_ccox_ih,err6=integrate.quad(lambda E: dNev_ccox_ih(E), 0, np.Inf)\n",
    "    \n",
    "    return  np.array([Nev_ibd_nh,Nev_ibd_ih]),np.array([Nev_ncox_nh,Nev_ncox_ih]),np.array([Nev_ccox_nh,Nev_ccox_ih])        "
   ]
  },
  {
   "cell_type": "code",
   "execution_count": 15,
   "id": "bb7ff2db",
   "metadata": {},
   "outputs": [],
   "source": [
    "par_e=[5e+52*624151,3.15*4]\n",
    "par_ebar=[5e+52*624151,3.15*6]\n",
    "par_x=[5e+52*624151,3.15*8]\n",
    "\n",
    "ibd=Nev(par_e,par_ebar,par_x)"
   ]
  },
  {
   "cell_type": "code",
   "execution_count": 16,
   "id": "7e7c6a8f",
   "metadata": {},
   "outputs": [
    {
     "data": {
      "text/plain": [
       "(array([3.67073204, 4.51835687]),\n",
       " array([0.14644815, 0.13937682]),\n",
       " array([0.15360155, 0.15925523]))"
      ]
     },
     "execution_count": 16,
     "metadata": {},
     "output_type": "execute_result"
    }
   ],
   "source": [
    "ibd"
   ]
  },
  {
   "cell_type": "code",
   "execution_count": null,
   "id": "f90cf5c1",
   "metadata": {},
   "outputs": [],
   "source": [
    "plt.plot(np.arange(101),y)"
   ]
  },
  {
   "cell_type": "code",
   "execution_count": null,
   "id": "b5d865ed",
   "metadata": {},
   "outputs": [],
   "source": [
    "from matplotlib import pyplot as plt\n",
    "\n",
    "plt.plot(x,f,x,g)\n",
    "plt.yscale('log')"
   ]
  },
  {
   "cell_type": "code",
   "execution_count": 17,
   "id": "c1144711",
   "metadata": {},
   "outputs": [],
   "source": [
    "f1=np.load('fit_nc_nu.npy')\n",
    "f2=np.load('fit_nc_nubar.npy')\n",
    "f3=np.load('fit_cc_nue.npy')\n",
    "f4=np.load('fit_cc_nuebar.npy')\n",
    "    \n",
    "cs_nc_nu=lambda E: f1[0]*E**5+f1[1]*E**4+f1[2]*E**3+f1[3]*E**2+f1[4]*E+f1[5] if E>15.11 else 0\n",
    "cs_nc_nubar=lambda E: f2[0]*E**5+f2[1]*E**4+f2[2]*E**3+f2[3]*E**2+f2[4]*E+f2[5] if E>15.11 else 0\n",
    "cs_cc_nu=lambda E: f3[0]*E**5+f3[1]*E**4+f3[2]*E**3+f3[3]*E**2+f3[4]*E+f3[5] if E>17.3 else 0\n",
    "cs_cc_nubar=lambda E: f4[0]*E**5+f4[1]*E**4+f4[2]*E**3+f4[3]*E**2+f4[4]*E+f4[5] if E>14.4 else 0\n",
    "    \n",
    "from cross_sections import cs_ibd\n",
    "\n",
    "Np=8.3e+31\n",
    "Nox=4.3e+31"
   ]
  },
  {
   "cell_type": "code",
   "execution_count": 19,
   "id": "bd834623",
   "metadata": {},
   "outputs": [],
   "source": [
    "x=np.linspace(0,100,1000)\n",
    "ibd=np.array([])\n",
    "cc_nue=np.array([])\n",
    "cc_nuebar=np.array([])\n",
    "nc_nu=np.array([])\n",
    "for val in x:\n",
    "    ibd=np.append(ibd, Np*cs_ibd(val))\n",
    "    cc_nue=np.append(cc_nue, Nox*cs_cc_nu(val))\n",
    "    cc_nuebar=np.append(cc_nuebar, Nox*cs_cc_nubar(val))\n",
    "    nc_nu=np.append(nc_nu, Nox*cs_nc_nu(val))"
   ]
  },
  {
   "cell_type": "code",
   "execution_count": 22,
   "id": "c82585cb",
   "metadata": {},
   "outputs": [
    {
     "ename": "AttributeError",
     "evalue": "'AxesSubplot' object has no attribute 'yscale'",
     "output_type": "error",
     "traceback": [
      "\u001b[1;31m---------------------------------------------------------------------------\u001b[0m",
      "\u001b[1;31mAttributeError\u001b[0m                            Traceback (most recent call last)",
      "\u001b[1;32m~\\AppData\\Local\\Temp/ipykernel_724/2146449146.py\u001b[0m in \u001b[0;36m<module>\u001b[1;34m\u001b[0m\n\u001b[0;32m      5\u001b[0m \u001b[0max\u001b[0m\u001b[1;33m.\u001b[0m\u001b[0mplot\u001b[0m\u001b[1;33m(\u001b[0m\u001b[0mx\u001b[0m\u001b[1;33m,\u001b[0m\u001b[0mnc_nu\u001b[0m\u001b[1;33m,\u001b[0m\u001b[0mlabel\u001b[0m\u001b[1;33m=\u001b[0m\u001b[1;34mr'$\\nu_x+^{12} C$ (NC)'\u001b[0m\u001b[1;33m)\u001b[0m\u001b[1;33m\u001b[0m\u001b[1;33m\u001b[0m\u001b[0m\n\u001b[0;32m      6\u001b[0m \u001b[1;33m\u001b[0m\u001b[0m\n\u001b[1;32m----> 7\u001b[1;33m \u001b[0max\u001b[0m\u001b[1;33m.\u001b[0m\u001b[0myscale\u001b[0m\u001b[1;33m(\u001b[0m\u001b[1;34m'log'\u001b[0m\u001b[1;33m)\u001b[0m\u001b[1;33m\u001b[0m\u001b[1;33m\u001b[0m\u001b[0m\n\u001b[0m\u001b[0;32m      8\u001b[0m \u001b[0max\u001b[0m\u001b[1;33m.\u001b[0m\u001b[0mlegend\u001b[0m\u001b[1;33m(\u001b[0m\u001b[1;33m)\u001b[0m\u001b[1;33m\u001b[0m\u001b[1;33m\u001b[0m\u001b[0m\n",
      "\u001b[1;31mAttributeError\u001b[0m: 'AxesSubplot' object has no attribute 'yscale'"
     ]
    },
    {
     "data": {
      "image/png": "[encoded data removed]",
      "text/plain": [
       "<Figure size 432x288 with 1 Axes>"
      ]
     },
     "metadata": {
      "needs_background": "light"
     },
     "output_type": "display_data"
    }
   ],
   "source": [
    "ax=plt.gca()\n",
    "ax.plot(x,ibd,label='IBD')\n",
    "ax.plot(x,cc_nue,label=r'$\\nu_e+^{12} C$ (CC)')\n",
    "ax.plot(x,cc_nuebar,label=r'$\\bar{\\nu_e}+^{12} C$ (CC)')\n",
    "ax.plot(x,nc_nu,label=r'$\\nu_x+^{12} C$ (NC)')\n",
    "\n",
    "ax.yscale('log')\n",
    "ax.legend()\n"
   ]
  }
 ],
 "metadata": {
  "kernelspec": {
   "display_name": "Python 3 (ipykernel)",
   "language": "python",
   "name": "python3"
  },
  "language_info": {
   "codemirror_mode": {
    "name": "ipython",
    "version": 3
   },
   "file_extension": ".py",
   "mimetype": "text/x-python",
   "name": "python",
   "nbconvert_exporter": "python",
   "pygments_lexer": "ipython3",
   "version": "3.9.7"
  }
 },
 "nbformat": 4,
 "nbformat_minor": 5
}
