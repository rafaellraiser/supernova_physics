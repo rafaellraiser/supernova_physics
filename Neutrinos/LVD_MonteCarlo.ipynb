{
 "cells": [
  {
   "cell_type": "markdown",
   "id": "046f189a",
   "metadata": {},
   "source": [
    "# Simulate neutrino interactions with LVD and generate histograms\n",
    "\n",
    "## Configurations\n",
    "Fiducial mass: 1 kton cintillator\n",
    "\n",
    "N_p=1.7e+32\n",
    "\n",
    "N_e=6.3e+32\n",
    "\n",
    "N_C=7.7e+31\n",
    "\n",
    "HTE (high threshold energy): 4 MeV (internal tanks)\n",
    "\n",
    "LTE: 0.8 MeV\n",
    "\n",
    "Operational time: 30 yrs\n"
   ]
  },
  {
   "cell_type": "code",
   "execution_count": 1,
   "id": "2987fc6e",
   "metadata": {},
   "outputs": [],
   "source": [
    "# FUNCTIONS\n",
    "\n",
    "## LVD resolution\n",
    "def sigma_res(E):\n",
    "    import numpy as np\n",
    "    return 0.23*E*np.sqrt(1+0.1*E)/np.sqrt(E)\n",
    "\n",
    "# Generate random energies acording to Garching flux\n",
    "def random_gen_garching(f):\n",
    "    import numpy as np\n",
    "    \n",
    "    Emax=100\n",
    "    \n",
    "    M=max(f( np.linspace(0,Emax,1000)))\n",
    "    \n",
    "    x=Emax*np.random.rand()\n",
    "    y=M*np.random.rand()\n",
    "    while y>f(x):\n",
    "        x=Emax*np.random.rand()\n",
    "        y=M*np.random.rand()\n",
    "    return x"
   ]
  },
  {
   "cell_type": "code",
   "execution_count": 2,
   "id": "2cac29d4",
   "metadata": {},
   "outputs": [],
   "source": [
    "# CODE\n",
    "\n",
    "import numpy as np\n",
    "import scipy.integrate as integrate\n",
    "from matplotlib import pyplot as plt\n",
    "import math\n",
    "\n",
    "# Detector parameters\n",
    "N_p=1.7e+32 # number of p\n",
    "#N_e=6.3e+32 # number of e-\n",
    "N_C=7.7e+31 # number o 12c\n",
    "T= 1000*(365*24*3600 )  #operational time in s\n",
    "HTE=4 # /MeV\n",
    "LTE=0.8 # /MeV\n",
    "\n",
    "# Calculate flux parameters from emission spectrum\n",
    "\n",
    "## Emission parameters: Etot/MeV, E0/MeV, pinching parameter\n",
    "par0_e=[5e+52*624151, 8, 2.3]\n",
    "par0_ebar=[5e+52*624151, 10, 2.3]\n",
    "par0_x=[5e+52*624151, 12, 2.3]\n",
    "\n",
    "from snr import snr_yuksel\n",
    "J1,J2,J3=snr_yuksel(0,'integrals','avg')\n",
    "\n",
    "### Thermal emission spectra\n",
    "A=(2+2.3)/(1+2.3)\n",
    "k=J3*J1/J2**2\n",
    "a=(2-k*A)/(k*A-1)\n",
    "\n",
    "## Flux parameters: Phi_tot/cm^-2s^-1, E0/MeV, a\n",
    "par_e=[0,0,a]\n",
    "par_ebar=[0,0,a]\n",
    "par_x=[0,0,a]\n",
    "\n",
    "par_e[0]=J1*par0_e[0]/par0_e[1]\n",
    "par_ebar[0]=J1*par0_ebar[0]/par0_ebar[1]\n",
    "par_x[0]= 2  *  J1*par0_x[0]/par0_x[1] # Sum of v_mu + v_tau\n",
    "\n",
    "par_e[1]=par0_e[1]*J2/J1\n",
    "par_ebar[1]=par0_ebar[1]*J2/J1\n",
    "par_x[1]=par0_x[1]*J2/J1"
   ]
  },
  {
   "cell_type": "code",
   "execution_count": 3,
   "id": "e865d0d5",
   "metadata": {},
   "outputs": [],
   "source": [
    "# Average number of interactions\n",
    "\n",
    "## Fluxes on earth after emission and MSW effect\n",
    "from spectra import spectrum_garching\n",
    "f0e= lambda E: spectrum_garching(E,par_e[0]*par_e[1],par_e[1],par_e[2])\n",
    "f0ebar=lambda E: spectrum_garching(E,par_ebar[0]*par_ebar[1],par_ebar[1],par_ebar[2])\n",
    "f0x=lambda E: spectrum_garching(E,par_x[0]*par_x[1],par_x[1],par_x[2])\n",
    "\n",
    "from mix import mix_ad\n",
    "fe_nh=mix_ad(f0e,f0ebar,f0x,'nu_e','nh')\n",
    "fe_ih=mix_ad(f0e,f0ebar,f0x,'nu_e','ih')\n",
    "febar_nh=mix_ad(f0e,f0ebar,f0x,'nu_ebar','nh')\n",
    "febar_ih=mix_ad(f0e,f0ebar,f0x,'nu_ebar','ih')\n",
    "fx_nh=mix_ad(f0e,f0ebar,f0x,'nu_x','nh')\n",
    "fx_ih=mix_ad(f0e,f0ebar,f0x,'nu_x','ih')\n",
    "\n",
    "## NH\n",
    "\n",
    "flux_IBD_nh=lambda E: febar_nh(E)\n",
    "\n",
    "flux_NCnu_nh=lambda E: fe_nh(E) + fx_nh(E)\n",
    "\n",
    "flux_NCnubar_nh= lambda E: febar_nh(E) + fx_nh(E)\n",
    "\n",
    "## IH\n",
    "\n",
    "flux_IBD_ih=lambda E: febar_ih(E)\n",
    "\n",
    "flux_NCnu_ih=lambda E: fe_ih(E) + fx_ih(E)\n",
    "\n",
    "flux_NCnubar_ih= lambda E: febar_ih(E) + fx_ih(E)"
   ]
  },
  {
   "cell_type": "code",
   "execution_count": 4,
   "id": "36c5d3e1",
   "metadata": {},
   "outputs": [],
   "source": [
    "# Cross sections for IBD and NC scattering on 12C\n",
    "\n",
    "## NC: vx + C -> vx+ *C for neutrinos\n",
    "from cross_sections import cs_NC_C_nu\n",
    "## NC: vx + C -> vx+ *C for anti-neutrinos\n",
    "from cross_sections import cs_NC_C_nubar\n",
    "\n",
    "## IBD\n",
    "from cross_sections import cs_ibd"
   ]
  },
  {
   "cell_type": "code",
   "execution_count": 5,
   "id": "2c02122b",
   "metadata": {},
   "outputs": [],
   "source": [
    "# NH\n",
    "\n",
    "## IBD\n",
    "Navg_IBD_nh,_=integrate.quad(lambda E: N_p*T*flux_IBD_nh(E)*cs_ibd(E),0,np.Inf)\n",
    "\n",
    "## NC nu (nu_e,nu_x)\n",
    "Navg_NC_nu_nh,_=integrate.quad(lambda E: N_C*T* flux_NCnu_nh(E) *cs_NC_C_nu(E),0,np.Inf)\n",
    "\n",
    "## NC nubar (nu_ebar,nu_xbar)\n",
    "Navg_NC_nubar_nh,_=integrate.quad(lambda E: N_C*T* flux_NCnubar_nh(E)*cs_NC_C_nubar(E),0,np.Inf)\n",
    "\n",
    "# IH\n",
    "\n",
    "## IBD\n",
    "Navg_IBD_ih,_=integrate.quad(lambda E: N_p*T*flux_IBD_ih(E)*cs_ibd(E),0,np.Inf)\n",
    "\n",
    "## NC nu (nu_e,nu_x)\n",
    "Navg_NC_nu_ih,_=integrate.quad(lambda E: N_C*T* flux_NCnu_ih(E) *cs_NC_C_nu(E),0,np.Inf)\n",
    "\n",
    "## NC nubar (nu_ebar,nu_xbar)\n",
    "Navg_NC_nubar_ih,_=integrate.quad(lambda E: N_C*T* flux_NCnubar_ih(E)*cs_NC_C_nubar(E),0,np.Inf)"
   ]
  },
  {
   "cell_type": "code",
   "execution_count": 10,
   "id": "98fdf759",
   "metadata": {},
   "outputs": [
    {
     "data": {
      "text/plain": [
       "1.3634726553508345"
      ]
     },
     "execution_count": 10,
     "metadata": {},
     "output_type": "execute_result"
    }
   ],
   "source": [
    "Navg_NC_nubar_ih"
   ]
  },
  {
   "cell_type": "code",
   "execution_count": 11,
   "id": "b4594898",
   "metadata": {},
   "outputs": [
    {
     "name": "stderr",
     "output_type": "stream",
     "text": [
      "C:\\Users\\rafae\\AppData\\Local\\Temp/ipykernel_11364/1094727899.py:6: RuntimeWarning: invalid value encountered in sqrt\n",
      "  return 0.23*E*np.sqrt(1+0.1*E)/np.sqrt(E)\n"
     ]
    }
   ],
   "source": [
    "# ITERACTION OVER RUNS\n",
    "runs=100\n",
    "\n",
    "Nev_IBD_nh=np.zeros(runs)\n",
    "Nev_IBD_ih=np.zeros(runs)\n",
    "Nev_NC_nh=np.zeros(runs)\n",
    "Nev_NC_ih=np.zeros(runs)\n",
    "\n",
    "for run in range(runs):\n",
    "    \n",
    "    # Sample k events from average using poisson distribution\n",
    "    \n",
    "    ## NH\n",
    "    \n",
    "    k_IBD_nh=np.random.poisson(Navg_IBD_nh)\n",
    "    \n",
    "    k_NC_nh=np.random.poisson(Navg_NC_nu_nh) + np.random.poisson(Navg_NC_nubar_nh)\n",
    "    \n",
    "    ## IH\n",
    "    \n",
    "    k_IBD_ih=np.random.poisson(Navg_IBD_ih)\n",
    "    \n",
    "    k_NC_ih=np.random.poisson(Navg_NC_nu_ih) + np.random.poisson(Navg_NC_nubar_ih)\n",
    "    \n",
    "    \n",
    "    ## Detected energies (photon)\n",
    "    Ed_NC_nh=np.array([])\n",
    "    Ed_NC_ih=np.array([])\n",
    "    Ed_IBD_nh=np.array([])\n",
    "    Ed_IBD_ih=np.array([])\n",
    "    \n",
    "    for i in range(k_NC_nh):\n",
    "        r=random_gen_garching(lambda E: flux_NCnu_nh(E)+flux_NCnubar_nh(E))\n",
    "        if r>15.11:\n",
    "            s=np.random.normal(15.11,sigma_res(15.11))\n",
    "            Ed_NC_nh=np.concatenate( (Ed_NC_nh, [s]) )\n",
    "    \n",
    "    for i in range(k_NC_ih):\n",
    "        r=random_gen_garching(lambda E: flux_NCnu_ih(E)+flux_NCnubar_ih(E))\n",
    "        if r>15.11:\n",
    "            s=np.random.normal(15.11,sigma_res(15.11))\n",
    "            Ed_NC_ih=np.concatenate( (Ed_NC_ih,[s] ) )\n",
    "\n",
    "    for i in range(k_IBD_nh):\n",
    "        r=random_gen_garching(flux_IBD_nh) -0.8 # Egamma = Ev-0.8\n",
    "        s=np.random.normal(r,sigma_res(r))\n",
    "        if s>HTE:\n",
    "            Ed_IBD_nh=np.concatenate( (Ed_IBD_nh,[s]) )\n",
    "\n",
    "    for i in range(k_IBD_ih):\n",
    "        r=random_gen_garching(flux_IBD_ih) -0.8 # Egamma = Ev-0.8\n",
    "        s=np.random.normal(r,sigma_res(r))\n",
    "        if s>HTE:\n",
    "            Ed_IBD_ih=np.concatenate( (Ed_IBD_ih,[s]) )\n",
    "    \n",
    "    #  Number of events\n",
    "    Nev_NC_nh[run]=len(Ed_NC_nh)\n",
    "    Nev_NC_ih[run]=len(Ed_NC_ih)\n",
    "    \n",
    "    Nev_IBD_nh[run]=len(Ed_IBD_nh)\n",
    "    Nev_IBD_ih[run]=len(Ed_IBD_ih)\n"
   ]
  },
  {
   "cell_type": "code",
   "execution_count": 26,
   "id": "c866c05a",
   "metadata": {},
   "outputs": [
    {
     "data": {
      "text/plain": [
       "array([0., 0., 0., 0., 0., 0., 0., 0., 0., 0., 0., 0., 0., 0., 0., 1., 1.,\n",
       "       0., 0., 0., 0., 0., 0., 0., 0., 0., 0., 0., 1., 0., 0., 0., 0., 0.,\n",
       "       0., 0., 0., 0., 0., 0., 0., 0., 0., 0., 0., 0., 0., 0., 0., 0., 0.,\n",
       "       0., 0., 0., 0., 0., 0., 0., 0., 1., 0., 0., 0., 0., 0., 0., 1., 0.,\n",
       "       0., 0., 0., 0., 0., 0., 0., 1., 0., 0., 0., 0., 0., 0., 0., 0., 0.,\n",
       "       1., 1., 0., 0., 0., 0., 0., 0., 0., 0., 0., 0., 0., 0., 0.])"
      ]
     },
     "execution_count": 26,
     "metadata": {},
     "output_type": "execute_result"
    }
   ],
   "source": [
    "Nev_NC_nh"
   ]
  },
  {
   "cell_type": "code",
   "execution_count": 15,
   "id": "66112e93",
   "metadata": {},
   "outputs": [],
   "source": [
    "# Average number of events and std\n",
    "\n",
    "## NH\n",
    "\n",
    "avg_NC_nh=np.mean(Nev_NC_nh)\n",
    "std_NC_nh=np.std(Nev_NC_nh)\n",
    "\n",
    "avg_IBD_nh=np.mean(Nev_IBD_nh)\n",
    "std_IBD_nh=np.std(Nev_IBD_nh)\n",
    "\n",
    "## IH\n",
    "\n",
    "avg_NC_ih=np.mean(Nev_NC_ih)\n",
    "std_NC_ih=np.std(Nev_NC_ih)\n",
    "\n",
    "avg_IBD_ih=np.mean(Nev_IBD_ih)\n",
    "std_IBD_ih=np.std(Nev_IBD_ih)"
   ]
  },
  {
   "cell_type": "code",
   "execution_count": 17,
   "id": "85c4eeac",
   "metadata": {},
   "outputs": [
    {
     "data": {
      "text/plain": [
       "201.07"
      ]
     },
     "execution_count": 17,
     "metadata": {},
     "output_type": "execute_result"
    }
   ],
   "source": []
  },
  {
   "cell_type": "code",
   "execution_count": null,
   "id": "9d13c46c",
   "metadata": {
    "scrolled": true
   },
   "outputs": [],
   "source": [
    "# Histograms\n",
    "\n",
    "# NC events seen all at E=15.11 MeV\n",
    "\n",
    "# \"Sum\" of all runs\n",
    "E_runs=[]\n",
    "for i in range(runs):\n",
    "    gauss_dist=np.random.normal(15.11,sigma(15.11),int(Nev_NC[i]))\n",
    "    E_runs=np.concatenate( (E_runs,gauss_dist) )\n"
   ]
  },
  {
   "cell_type": "code",
   "execution_count": null,
   "id": "8f0f8f8e",
   "metadata": {},
   "outputs": [],
   "source": [
    "def f2(f):\n",
    "    fun=lambda x: f(x)+2\n",
    "    return fun"
   ]
  },
  {
   "cell_type": "code",
   "execution_count": null,
   "id": "dd149d77",
   "metadata": {},
   "outputs": [],
   "source": [
    "y=lambda z: 2*z\n",
    "\n",
    "f2(y)(1)"
   ]
  }
 ],
 "metadata": {
  "kernelspec": {
   "display_name": "Python 3 (ipykernel)",
   "language": "python",
   "name": "python3"
  },
  "language_info": {
   "codemirror_mode": {
    "name": "ipython",
    "version": 3
   },
   "file_extension": ".py",
   "mimetype": "text/x-python",
   "name": "python",
   "nbconvert_exporter": "python",
   "pygments_lexer": "ipython3",
   "version": "3.9.7"
  }
 },
 "nbformat": 4,
 "nbformat_minor": 5
}
