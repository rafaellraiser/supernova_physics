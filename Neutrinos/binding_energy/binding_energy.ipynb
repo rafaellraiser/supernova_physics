{
 "cells": [
  {
   "cell_type": "code",
   "execution_count": 6,
   "id": "5ce272bd",
   "metadata": {},
   "outputs": [],
   "source": [
    "import numpy as np\n",
    "from matplotlib import pyplot as plt\n",
    "import scipy.integrate as integrate\n"
   ]
  },
  {
   "cell_type": "code",
   "execution_count": 123,
   "id": "997db25d",
   "metadata": {
    "scrolled": true
   },
   "outputs": [
    {
     "data": {
      "text/plain": [
       "[<matplotlib.lines.Line2D at 0x2446575e880>]"
      ]
     },
     "execution_count": 123,
     "metadata": {},
     "output_type": "execute_result"
    },
    {
     "data": {
      "image/png": "[encoded data removed]",
      "text/plain": [
       "<Figure size 432x288 with 1 Axes>"
      ]
     },
     "metadata": {
      "needs_background": "light"
     },
     "output_type": "display_data"
    }
   ],
   "source": [
    "# Constants\n",
    "G=6.6743e-11 # Newtons's constant /m^3 kg^-1 s^-2\n",
    "d0=1e+14*1e-3 # Core density /kg/m^3\n",
    "R=10e+3 # radius /m\n",
    "\n",
    "# Density as function of fraction of total radius\n",
    "\n",
    "def dens(r,R):\n",
    "    d0=1e+14\n",
    "    x=1e-2\n",
    "    p=1\n",
    "    d=(r<=R)*d0*np.exp(-100*r/R)  +0*(r>R)\n",
    "    #d=(r<R)*d0*np.exp(-r/(0.5*R))+(r>=R)*0\n",
    "    return d\n",
    "\n",
    "x=np.linspace(R/1000,R,1000)\n",
    "y=np.zeros(x.size)\n",
    "\n",
    "for k in range(x.size):\n",
    "    y[k]=dens(x[k],R)\n",
    "\n",
    "plt.plot(x,dens(x,R))"
   ]
  },
  {
   "cell_type": "code",
   "execution_count": 124,
   "id": "1df95fcd",
   "metadata": {
    "scrolled": true
   },
   "outputs": [],
   "source": [
    "R=10000*np.linspace(0.8,1.2,10)\n",
    "M=np.zeros(R.size)\n",
    "U=np.zeros(R.size)\n",
    "\n",
    "import scipy.integrate as integrate\n",
    "for j in range(R.size):\n",
    "    \n",
    "    # Mass\n",
    "    M[j],err_M=integrate.quad(lambda x: 4*np.pi*(x**2)*dens(x,R[j]),0,R[j])\n",
    "    # Binding energy\n",
    "    # x=s, y=r\n",
    "    def f(x,y):\n",
    "        return G*4*np.pi*y*dens(y,R[j])*4*np.pi* (x**2) *dens(x,R[j])\n",
    "    \n",
    "    def bounds_y():\n",
    "        return [0, R[j]]\n",
    "    \n",
    "    def bounds_x(y):\n",
    "        return [0, y]\n",
    "    \n",
    "    U[j],err_U=integrate.nquad(f, [bounds_x, bounds_y])"
   ]
  },
  {
   "cell_type": "code",
   "execution_count": 125,
   "id": "be15f395",
   "metadata": {},
   "outputs": [
    {
     "data": {
      "text/plain": [
       "[<matplotlib.lines.Line2D at 0x244657c1700>]"
      ]
     },
     "execution_count": 125,
     "metadata": {},
     "output_type": "execute_result"
    },
    {
     "data": {
      "image/png": "[encoded data removed]",
      "text/plain": [
       "<Figure size 432x288 with 1 Axes>"
      ]
     },
     "metadata": {
      "needs_background": "light"
     },
     "output_type": "display_data"
    }
   ],
   "source": [
    "plt.plot(G*M**2/R,U)"
   ]
  },
  {
   "cell_type": "code",
   "execution_count": 126,
   "id": "4b647d73",
   "metadata": {
    "scrolled": true
   },
   "outputs": [
    {
     "data": {
      "text/plain": [
       "array([15.625, 15.625, 15.625, 15.625, 15.625, 15.625, 15.625, 15.625,\n",
       "       15.625, 15.625])"
      ]
     },
     "execution_count": 126,
     "metadata": {},
     "output_type": "execute_result"
    }
   ],
   "source": [
    "U/(G*M**2/R)"
   ]
  }
 ],
 "metadata": {
  "kernelspec": {
   "display_name": "Python 3 (ipykernel)",
   "language": "python",
   "name": "python3"
  },
  "language_info": {
   "codemirror_mode": {
    "name": "ipython",
    "version": 3
   },
   "file_extension": ".py",
   "mimetype": "text/x-python",
   "name": "python",
   "nbconvert_exporter": "python",
   "pygments_lexer": "ipython3",
   "version": "3.9.7"
  }
 },
 "nbformat": 4,
 "nbformat_minor": 5
}
